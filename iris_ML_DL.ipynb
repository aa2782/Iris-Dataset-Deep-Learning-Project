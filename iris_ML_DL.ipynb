{
  "cells": [
    {
      "cell_type": "code",
      "execution_count": null,
      "id": "8178d0aa",
      "metadata": {
        "id": "8178d0aa"
      },
      "outputs": [],
      "source": [
        "# python libraries\n",
        "import pandas as pd\n",
        "import numpy as np\n",
        "import matplotlib.pyplot as plt\n",
        "%matplotlib inline\n",
        "import scipy.stats as stats\n",
        "import seaborn as sns\n",
        "import tensorflow as tf\n",
        "from tensorflow import keras\n",
        "from tensorflow.keras.layers import Dense, Input\n",
        "from tensorflow.keras.models import Model\n",
        "from tensorflow.keras.utils import plot_model\n",
        "from sklearn.model_selection import train_test_split\n",
        "from sklearn.preprocessing import LabelEncoder"
      ]
    },
    {
      "cell_type": "code",
      "execution_count": null,
      "id": "a65c485d",
      "metadata": {
        "id": "a65c485d"
      },
      "outputs": [],
      "source": [
        "data = pd.read_csv(r'D:\\Downloads\\iris.csv')\n",
        "data.head()"
      ]
    },
    {
      "cell_type": "code",
      "execution_count": null,
      "id": "b9af4c46",
      "metadata": {
        "id": "b9af4c46"
      },
      "outputs": [],
      "source": [
        "X = data.iloc[:,0:4]\n",
        "y = data.iloc[:,4]\n"
      ]
    },
    {
      "cell_type": "code",
      "execution_count": null,
      "id": "bb352a2f",
      "metadata": {
        "id": "bb352a2f"
      },
      "outputs": [],
      "source": [
        "encoder = LabelEncoder()\n",
        "encoder.fit(y)\n",
        "y_new = encoder.transform(y)\n",
        "y_new"
      ]
    },
    {
      "cell_type": "code",
      "execution_count": null,
      "id": "752757e0",
      "metadata": {
        "id": "752757e0"
      },
      "outputs": [],
      "source": [
        "\n",
        "yy_new = tf.one_hot(tf.constant(y_new),depth = 3)\n",
        "yy_new  = yy_new.numpy()\n",
        "yy_new\n"
      ]
    },
    {
      "cell_type": "code",
      "execution_count": null,
      "id": "637a0f65",
      "metadata": {
        "id": "637a0f65"
      },
      "outputs": [],
      "source": [
        "X_train,X_test,y_train,y_test = train_test_split(X,yy_new,test_size = 0.2)"
      ]
    },
    {
      "cell_type": "code",
      "execution_count": null,
      "id": "f42e8b78",
      "metadata": {
        "id": "f42e8b78"
      },
      "outputs": [],
      "source": [
        "tf.random.set_seed(42)\n",
        "X_train_new = tf.constant(X_train, dtype = tf.float32)\n",
        "X_test_new = tf.constant(X_test, dtype = tf.float32)\n",
        "y_train_new = tf.constant(y_train, dtype = tf.float32)\n",
        "y_test_new = tf.constant(y_test, dtype = tf.float32)\n",
        "y_train_new"
      ]
    },
    {
      "cell_type": "code",
      "execution_count": null,
      "id": "b39b40fd",
      "metadata": {
        "id": "b39b40fd"
      },
      "outputs": [],
      "source": [
        "#define the model\n",
        "layer1 = Input(shape = (4,))\n",
        "layer2 = Dense(10, activation = 'relu')(layer1)\n",
        "output = Dense(3,activation = 'softmax')(layer2)\n",
        "our_model = Model(inputs = layer1, outputs = output)"
      ]
    },
    {
      "cell_type": "code",
      "execution_count": null,
      "id": "bca5ab75",
      "metadata": {
        "id": "bca5ab75"
      },
      "outputs": [],
      "source": [
        "#compile the model \n",
        "our_model.compile(loss = 'categorical_crossentropy',\n",
        "                 optimizer = 'Adam',\n",
        "                 metrics = ['accuracy'])"
      ]
    },
    {
      "cell_type": "code",
      "execution_count": null,
      "id": "e13aa495",
      "metadata": {
        "id": "e13aa495"
      },
      "outputs": [],
      "source": [
        "#fit the model\n",
        "our_model.fit(X_train_new, y_train_new, epochs = 60)"
      ]
    },
    {
      "cell_type": "code",
      "execution_count": null,
      "id": "eb764930",
      "metadata": {
        "id": "eb764930"
      },
      "outputs": [],
      "source": [
        "our_model.predict(X_test_new)"
      ]
    },
    {
      "cell_type": "code",
      "execution_count": null,
      "id": "2e9c53eb",
      "metadata": {
        "id": "2e9c53eb"
      },
      "outputs": [],
      "source": [
        "y_test_new"
      ]
    },
    {
      "cell_type": "code",
      "execution_count": null,
      "id": "d58ae103",
      "metadata": {
        "id": "d58ae103"
      },
      "outputs": [],
      "source": []
    }
  ],
  "metadata": {
    "kernelspec": {
      "display_name": "Python 3",
      "language": "python",
      "name": "python3"
    },
    "language_info": {
      "codemirror_mode": {
        "name": "ipython",
        "version": 3
      },
      "file_extension": ".py",
      "mimetype": "text/x-python",
      "name": "python",
      "nbconvert_exporter": "python",
      "pygments_lexer": "ipython3",
      "version": "3.8.8"
    },
    "colab": {
      "provenance": []
    }
  },
  "nbformat": 4,
  "nbformat_minor": 5
}